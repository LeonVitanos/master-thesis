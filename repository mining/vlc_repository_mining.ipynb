{
 "cells": [
  {
   "cell_type": "code",
   "execution_count": null,
   "metadata": {},
   "outputs": [],
   "source": [
    "import os\n",
    "from datetime import datetime\n",
    "from dateutil.relativedelta import relativedelta\n",
    "from git import Repo\n",
    "\n",
    "# Repository URL\n",
    "repo_url = \"git@github.com:LeonVitanos/Wallch.git\"\n",
    "\n",
    "# Clone or fetch the repository\n",
    "repo_path = \"Downloads/wallch\"  # Path where the repository will be cloned or fetched\n",
    "if not os.path.exists(repo_path):\n",
    "    Repo.clone_from(repo_url, repo_path)\n",
    "else:\n",
    "    repo = Repo(repo_path)\n",
    "    repo.remote().fetch()\n",
    "\n",
    "# Create the stats dictionary\n",
    "languages = ['C++', 'Qt', 'C/C++ Header', 'QML']\n",
    "stats = {}\n",
    "\n",
    "# Loop through the commits and collect relevant data for first commit of each month\n",
    "for commit in repo.iter_commits():\n",
    "    date = datetime.fromtimestamp(commit.committed_date)\n",
    "    year_month = date.strftime(\"%Y:%m\")\n",
    "\n",
    "    # Check if current commit is the first commit of the month\n",
    "    if year_month not in stats:\n",
    "        # Create year_month key if not exists\n",
    "        stats[year_month] = {}\n",
    "\n",
    "        # Run cloc to gather the stats for each language (first line is the header, and the rest are the data lines for each language)\n",
    "        # the order of the cloc output data is: files,language,blank,comment,code\n",
    "        cloc_output = os.popen(\"cloc --by-file --csv --quiet --include-lang=\" + \",\".join(languages) + \" --git \" + repo_path).read()\n",
    "        lines = cloc_output.splitlines()\n",
    "\n",
    "        # Extract the stats from the corresponding line in cloc output\n",
    "        for line in lines:\n",
    "            data = line.split(\",\")\n",
    "            language = data[1]\n",
    "\n",
    "            # Extract the stats using the known indices and store in stats dictionary\n",
    "            if language in languages:\n",
    "                stats[year_month][language] = {\n",
    "                    'files': int(data[0]),\n",
    "                    'blank': int(data[2]),\n",
    "                    'comment': int(data[3]),\n",
    "                    'code': int(data[4])\n",
    "                }"
   ]
  }
 ],
 "metadata": {
  "language_info": {
   "name": "python"
  },
  "orig_nbformat": 4
 },
 "nbformat": 4,
 "nbformat_minor": 2
}
