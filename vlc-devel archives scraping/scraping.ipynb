{
 "cells": [
  {
   "cell_type": "code",
   "execution_count": 37,
   "metadata": {},
   "outputs": [],
   "source": [
    "import requests\n",
    "from bs4 import BeautifulSoup\n",
    "import gzip\n",
    "import os\n",
    "\n",
    "def scrape_and_extract(url):\n",
    "    # Scrape the source code of the website page\n",
    "    response = requests.get(url)\n",
    "    soup = BeautifulSoup(response.content, 'html.parser')\n",
    "\n",
    "    # Find all .txt.gz files on the page\n",
    "    txt_gz_links = soup.find_all('a', href=lambda x: x.endswith('.txt.gz'))\n",
    "\n",
    "    os.makedirs(\"files\")\n",
    "\n",
    "    # Download and extract each .txt.gz file\n",
    "    for link in txt_gz_links:\n",
    "        download_url = link['href']\n",
    "        filename = os.path.join(\"files\", download_url.split('/')[-1])\n",
    "\n",
    "        # Download the .txt.gz file\n",
    "        response = requests.get(url + download_url)\n",
    "        with open(filename, 'wb') as f:\n",
    "            f.write(response.content)\n",
    "\n",
    "        # Extract the contents of the .txt.gz file\n",
    "        with gzip.open(filename, 'rb') as f:\n",
    "            try:\n",
    "                extracted_content = f.read().decode('utf-8')\n",
    "            except UnicodeDecodeError:\n",
    "                # UTF-8 decoding failed, try ISO-8859-1\n",
    "                extracted_content = f.read().decode('ISO-8859-1')\n",
    "\n",
    "            try:\n",
    "                with open(filename.replace('.txt.gz', '.txt'), 'w', encoding='utf-8') as f:\n",
    "                    f.write(extracted_content)\n",
    "            except UnicodeEncodeError:\n",
    "                # UTF-8 encoding failed, write as-is without encoding\n",
    "                with open(filename.replace('.txt.gz', '.txt'), 'w') as f:\n",
    "                    f.write(extracted_content)       \n",
    "\n",
    "        # Delete the original .txt.gz file\n",
    "        os.remove(filename)"
   ]
  },
  {
   "cell_type": "code",
   "execution_count": 38,
   "metadata": {},
   "outputs": [],
   "source": [
    "url = 'https://mailman.videolan.org/pipermail/vlc-devel/'\n",
    "scrape_and_extract(url)"
   ]
  }
 ],
 "metadata": {
  "kernelspec": {
   "display_name": "Python 3",
   "language": "python",
   "name": "python3"
  },
  "language_info": {
   "codemirror_mode": {
    "name": "ipython",
    "version": 3
   },
   "file_extension": ".py",
   "mimetype": "text/x-python",
   "name": "python",
   "nbconvert_exporter": "python",
   "pygments_lexer": "ipython3",
   "version": "3.12.0"
  },
  "orig_nbformat": 4
 },
 "nbformat": 4,
 "nbformat_minor": 2
}
